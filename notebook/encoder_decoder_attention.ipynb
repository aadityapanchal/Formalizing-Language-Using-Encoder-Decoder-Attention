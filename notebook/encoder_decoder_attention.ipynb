{
 "cells": [
  {
   "attachments": {},
   "cell_type": "markdown",
   "metadata": {},
   "source": [
    "<h2>Normalizing informal language using Deep Learning</h2>"
   ]
  },
  {
   "attachments": {},
   "cell_type": "markdown",
   "metadata": {},
   "source": [
    "1 Overview:\n",
    "\n",
    "1.1. Introduction:\n",
    "\n",
    "The project's objective is to convert informal text into a more structured and normalized format using Natural Language Processing (NLP) techniques, which can have a variety of applications and benefits in areas such as translation, information retrieval, and accessibility. In this work, we will aim to tackle the problem by proposing an Encoder-Decoder sequence-to-sequence (seq2seq) architecture with attention mechanism.\n",
    "\n",
    "\n",
    "1.2. Business Problem:\n",
    "\n",
    "The problem we are trying to address is the difficulty of processing and understanding text\n",
    "written in an informal or unstructured way. Informal language can be challenging to interpret for humans and machines, leading to misinterpretations or misunderstandings of the text's meaning. Normalizing the text allows us to produce a more structured representation that is easier to process and understand. This can help to improve the accuracy of machine translation systems, assist in information retrieval tasks, and make the text more accessible to individuals with language processing difficulties.\n",
    "\n",
    "Informal input : U wan me to chop seat 4 u nt?\n",
    "\n",
    "Formal input : Do you want me to reserve seat for you or not?\n",
    "\n",
    "\n",
    "1.3. Dataset:\n",
    "\n",
    "We are going to use the NUS Social Media Text Normalization and Translation Corpus dataset for the project. The corpus was created for social media text normalization and translation by randomly selecting 2,000 messages from the NUS English SMS corpus.\n",
    "\n",
    "2 Loading data & Data Preprocessing\n",
    "\n",
    "2.1 Loading data<br />\n",
    "2.2 Data Augmentation<br />\n",
    "2.3 Adding Beginning of the Sentence token and End of the Sentence token<br />\n",
    "2.4 Visualization of distribution of length of Encoder Input, Decoder Input and Decoder Output using distance plot<br />\n",
    "2.5 Splitting the data into training, validation and test sets<br />\n",
    "2.6 Tokenizing data<br />\n",
    "2.7 Padding Data<br />"
   ]
  },
  {
   "cell_type": "code",
   "execution_count": null,
   "metadata": {},
   "outputs": [],
   "source": [
    "# Import the required file\n",
    "import pandas as pd\n",
    "import numpy as np\n",
    "import matplotlib.pyplot as plt\n",
    "import os\n",
    "import tensorflow as tf\n",
    "from tensorflow.keras.layers import Embedding, LSTM, Dense\n",
    "import pickle\n",
    "from tensorflow.keras.preprocessing.sequence import pad_sequences\n",
    "from nltk.translate.bleu_score import sentence_bleu\n",
    "import plotly.figure_factory as ff\n",
    "import time\n",
    "\n",
    "import warnings\n",
    "warnings.filterwarnings(\"ignore\")"
   ]
  },
  {
   "cell_type": "code",
   "execution_count": 332,
   "metadata": {},
   "outputs": [],
   "source": [
    "# Read the train, validation and test files & tokenizer models\n",
    "train = pd.read_csv('../data/processed/train.csv', index_col=[0])\n",
    "validation = pd.read_csv('../data/processed/validation.csv', index_col=[0])\n",
    "test = pd.read_csv('../data/processed/test.csv', index_col=[0])\n",
    "\n",
    "with open('../model/tokenizer.pkl', 'rb') as file:\n",
    "    tokenizer = pickle.load(file)"
   ]
  },
  {
   "attachments": {},
   "cell_type": "markdown",
   "metadata": {},
   "source": [
    "3 Designing the Data Pipeline:\n",
    "\n",
    "As the model expects tuples of length batch size of preprocessed data at runtime, we will construct a data pipeline before we can train the model. The data will be padded into sequences as we load the source and target tokenizers. After that, feed it based on the batch size."
   ]
  },
  {
   "attachments": {},
   "cell_type": "markdown",
   "metadata": {},
   "source": [
    "3.1. Preprocessing the Data:\n",
    "\n",
    "We will first convert sentences into sequences. First we will tokenize the samples and perform data padding to make sure all the vectors are of length 100."
   ]
  },
  {
   "cell_type": "code",
   "execution_count": 334,
   "metadata": {},
   "outputs": [],
   "source": [
    "class Dataset:\n",
    "    def __init__(self, data, tokenizer, max_length):\n",
    "        self.data = data\n",
    "        self.tokenizer = tokenizer\n",
    "        self.max_length = max_length\n",
    "\n",
    "    def __padding__(self, sequence):\n",
    "        return pad_sequences(sequence, maxlen = self.max_length, dtype = 'int32', padding = 'post')\n",
    "    \n",
    "    def __getitem__(self, i):\n",
    "        self.encoder_input_sequence = self.tokenizer['informal'].texts_to_sequences([self.data['encoder_input'].values[i]])\n",
    "        self.decoder_input_sequence = self.tokenizer['normalized'].texts_to_sequences([self.data['decoder_input'].values[i]])\n",
    "        self.decoder_output_sequence = self.tokenizer['normalized'].texts_to_sequences([self.data['decoder_output'].values[i]])\n",
    "        return self.__padding__(self.encoder_input_sequence), self.__padding__(self.decoder_input_sequence), self.__padding__(self.decoder_output_sequence)\n",
    "        \n",
    "\n",
    "    def __len__(self):\n",
    "        return len(self.encoder_input_sequence)"
   ]
  },
  {
   "attachments": {},
   "cell_type": "markdown",
   "metadata": {},
   "source": [
    "3.2. Designing Dataloader: The dataloader returns the tuple of form ([[encoder_inp], [decoder_inp]], decoder_out) at the runtime"
   ]
  },
  {
   "cell_type": "code",
   "execution_count": 335,
   "metadata": {},
   "outputs": [],
   "source": [
    "class Dataloader(tf.keras.utils.Sequence):    \n",
    "    def __init__(self, dataset, batch_size = 1):\n",
    "        self.dataset = dataset\n",
    "        self.batch_size = batch_size\n",
    "        self.indexes = np.arange(len(self.dataset.data['encoder_input'].values))\n",
    "\n",
    "    def __getitem__(self, i):\n",
    "        data = [self.dataset[idx] for idx in range(i * self.batch_size, (i + 1) * self.batch_size)]\n",
    "        batch = [np.squeeze(np.stack(samples, axis = 1), axis = 0) for samples in zip(*data)]\n",
    "        return tuple([[batch[0],batch[1]],batch[2]])\n",
    "\n",
    "    def __len__(self):\n",
    "        return len(self.indexes) // self.batch_size\n",
    "\n",
    "    def on_epoch_end(self):\n",
    "        self.indexes = np.random.permutation(self.indexes)"
   ]
  },
  {
   "attachments": {},
   "cell_type": "markdown",
   "metadata": {},
   "source": [
    "3.3 Defining Parameters and Creating Dataloader: Define batch size, max length & load training and validation data."
   ]
  },
  {
   "cell_type": "code",
   "execution_count": null,
   "metadata": {},
   "outputs": [],
   "source": [
    "BATCH_SIZE = 128\n",
    "MAX_LEN = 200\n",
    "train_dataset = Dataset(train, tokenizer, MAX_LEN)\n",
    "validation_dataset  = Dataset(validation, tokenizer, MAX_LEN)\n",
    "train_dataloader = Dataloader(train_dataset, batch_size = BATCH_SIZE)\n",
    "validation_dataloader = Dataloader(validation_dataset, batch_size = BATCH_SIZE)"
   ]
  },
  {
   "attachments": {},
   "cell_type": "markdown",
   "metadata": {},
   "source": [
    "4 Designing the Attention based Encoder Decoder Model:\n",
    "\n",
    "4.1. Designing Encoder: At each time step, the encoder will receive a sequence of word embeddings from the source sentences and encode the information in an encoded vector using the current state and LSTM hidden state. As a result, the encoder produces an encoded vector of the source sentence, also known as a vector of latent information."
   ]
  },
  {
   "cell_type": "code",
   "execution_count": 336,
   "metadata": {},
   "outputs": [],
   "source": [
    "class Encoder(tf.keras.Model):\n",
    "    \n",
    "    def __init__(self, inp_vocab_size, embedding_dim, lstm_size, input_length):\n",
    "        super().__init__()\n",
    "        self.lstm_size = lstm_size\n",
    "        embedding_params = {'input_dim': inp_vocab_size,\n",
    "                            'output_dim': embedding_dim,\n",
    "                            'embeddings_initializer' : tf.keras.initializers.RandomNormal(mean = 0, stddev = 1, seed = 42),\n",
    "                            'input_length' : input_length, \n",
    "                            'mask_zero' : True}\n",
    "        \n",
    "        lstm_params = {'units':self.lstm_size, \n",
    "                      'return_state' : True, \n",
    "                      'return_sequences' : True,\n",
    "                      'kernel_initializer' : tf.keras.initializers.glorot_uniform(seed = 42),\n",
    "                      'recurrent_initializer' : tf.keras.initializers.orthogonal(seed = 42)}\n",
    "        \n",
    "  \n",
    "        self.embedding = Embedding(**embedding_params)\n",
    "        self.lstm1 = LSTM(**lstm_params)\n",
    "        self.lstm2 = LSTM(**lstm_params)\n",
    "\n",
    "    def call(self, input):\n",
    "        self.encoder_output, self.hidden_state, self.current_state = self.lstm1(self.embedding(input[0]), initial_state = input[1])\n",
    "        return self.lstm2(self.encoder_output, [self.hidden_state, self.current_state])\n",
    "    \n",
    "    def initialize_states(self, batch_size):\n",
    "      return tf.zeros([batch_size, self.lstm_size]), tf.zeros([batch_size, self.lstm_size])\n",
    "      "
   ]
  },
  {
   "attachments": {},
   "cell_type": "markdown",
   "metadata": {},
   "source": [
    "4.2 Designing Attention Model: The decoder hidden state of the previous timestep and the encoder output serve as the two inputs for the attention model, which then calculates attention weights."
   ]
  },
  {
   "cell_type": "code",
   "execution_count": 337,
   "metadata": {},
   "outputs": [],
   "source": [
    "class Attention(tf.keras.Model):\n",
    "\n",
    "    def __init__(self, lstm_size, scoring_function):\n",
    "        super(Attention, self).__init__()\n",
    "        self.scoring_function = scoring_function\n",
    "       \n",
    "        self.V = tf.keras.layers.Dense(1)\n",
    "        self.W = tf.keras.layers.Dense(lstm_size)   \n",
    "        self.W1 = tf.keras.layers.Dense(lstm_size)\n",
    "        self.W2 = tf.keras.layers.Dense(lstm_size)\n",
    "        self.V1 = tf.keras.layers.Dense(1)\n",
    "    \n",
    "    def call(self,input):        \n",
    "        score = self.V(tf.linalg.matmul(input[1], tf.expand_dims(input[0], 1), transpose_b=True)) if self.scoring_function == 'dot' else (\n",
    "            tf.keras.layers.Dot(axes=(2, 1))([self.W(input[1]), tf.expand_dims(input[0], axis = 2)]) if self.scoring_function == 'general' else \n",
    "            self.V1(tf.nn.tanh(self.W1(tf.expand_dims(input[0], 1)) + self.W2(input[1])))\n",
    "        )\n",
    "        return tf.reduce_sum(tf.nn.softmax(score, axis=1) * input[1], axis=1), tf.nn.softmax(score, axis=1)\n"
   ]
  },
  {
   "attachments": {},
   "cell_type": "markdown",
   "metadata": {},
   "source": [
    "4.3 Designing Step Decoder: Step decoder will perform a concatenation operation for each time step using the output from the previous step's decoder and the attention weights calculated by the attention model."
   ]
  },
  {
   "cell_type": "code",
   "execution_count": 338,
   "metadata": {},
   "outputs": [],
   "source": [
    "class Step_Decoder(tf.keras.Model):\n",
    "\n",
    "    def __init__(self, out_vocab_size, embedding_dim, input_length, lstm_size, scoring_function, embedding_matrix = None):\n",
    "\n",
    "        super().__init__()\n",
    "        self.attention = Attention(lstm_size, scoring_function)\n",
    "        \n",
    "        embedding_params = {'input_dim' : out_vocab_size, 'output_dim' : embedding_dim,\n",
    "                                       'embeddings_initializer' : tf.keras.initializers.RandomNormal(mean = 0, stddev = 1, seed = 42),\n",
    "                                       'input_length' : input_length, 'mask_zero' : True}\n",
    "        lstm_params = {'units':lstm_size, 'return_state' : True, 'return_sequences' : True, \n",
    "                            'kernel_initializer' : tf.keras.initializers.glorot_uniform(seed = 42), \n",
    "                            'recurrent_initializer' : tf.keras.initializers.orthogonal(seed = 42)}\n",
    "        \n",
    "        if embedding_matrix:\n",
    "            embedding_params['embeddings_initializer'] = tf.keras.initializers.Constant(embedding_matrix)\n",
    "            embedding_params['trainable'] = False\n",
    "        \n",
    "        self.embedding = Embedding(**embedding_params)\n",
    "        self.lstm1 = LSTM(**lstm_params)\n",
    "        self.lstm2 = LSTM(**lstm_params)\n",
    "        self.dense = Dense(out_vocab_size)\n",
    "\n",
    "\n",
    "    def call(self, input):\n",
    "\n",
    "        encoder_hidden = input[2]\n",
    "        encoder_current = input[3]\n",
    "        dec_output, encoder_hidden, encoder_current = self.lstm1(tf.concat([tf.expand_dims(self.attention([encoder_hidden, input[1]])[0], 1), \n",
    "                                                                            self.embedding(input[0])], axis = -1), [encoder_hidden, encoder_current])\n",
    "        dec_output, encoder_hidden, encoder_current = self.lstm2(dec_output, [encoder_hidden, encoder_current])\n",
    "        output = self.dense(tf.reshape(dec_output, (-1, dec_output.shape[2])))\n",
    "        \n",
    "        return output, encoder_hidden, encoder_current"
   ]
  },
  {
   "attachments": {},
   "cell_type": "markdown",
   "metadata": {},
   "source": [
    "4.4 At each timestep, the decoder model invokes Step decoder and produces the final output tokens."
   ]
  },
  {
   "cell_type": "code",
   "execution_count": 339,
   "metadata": {},
   "outputs": [],
   "source": [
    "class Decoder(tf.keras.Model):\n",
    "\n",
    "    def __init__(self, out_vocab_size, embedding_dim, input_length, lstm_size, scoring_function, embedding_matrix = None):\n",
    "        super().__init__()\n",
    "        self.timestepdecoder = Step_Decoder(out_vocab_size, embedding_dim, input_length,\n",
    "                                                lstm_size, scoring_function, embedding_matrix)\n",
    "        \n",
    "    \n",
    "    @tf.function\n",
    "    def call(self, input):\n",
    "        outputs = tf.TensorArray(tf.float32, size = tf.shape(input[0])[1])\n",
    "        for timestep in range(tf.shape(input[0])[1]):\n",
    "            outputs = outputs.write(timestep, self.timestepdecoder([input[0][:, timestep:timestep+1], input[1], input[2], input[3]])[0])\n",
    "        \n",
    "        return tf.transpose(outputs.stack(), [1,0,2])"
   ]
  },
  {
   "attachments": {},
   "cell_type": "markdown",
   "metadata": {},
   "source": [
    "4.5 Designing Final Model Architechture: The tuple of input sequences is provided to the Attention based Encoder Decoder model, which then uses the subclassing API to implement the Encoder, Attention, Step Decoder, and Decoder models."
   ]
  },
  {
   "cell_type": "code",
   "execution_count": 340,
   "metadata": {},
   "outputs": [],
   "source": [
    "class Encoder_Decoder(tf.keras.Model):\n",
    "    \n",
    "    def __init__(self, input_length, inp_vocab_size, out_vocab_size, lstm_size, scoring_function, batch_size, embedding_dim, embedding_matrix = None):\n",
    "    \n",
    "        super().__init__()\n",
    "    \n",
    "        encoder_args = {'inp_vocab_size' : inp_vocab_size + 1, 'embedding_dim' : embedding_dim, 'lstm_size' : lstm_size, 'input_length' : input_length}\n",
    "        decoder_args = {'out_vocab_size' : out_vocab_size + 1, 'embedding_dim' : embedding_dim, 'lstm_size' : lstm_size,\n",
    "                               'scoring_function' : scoring_function, 'input_length' : input_length, 'embedding_matrix' : embedding_matrix}\n",
    "        self.batch_size = batch_size\n",
    "        self.encoder = Encoder(**encoder_args)\n",
    "        self.decoder = Decoder(**decoder_args)\n",
    "    \n",
    "    def call(self, data):\n",
    "        encoder_output, encoder_hidden, encoder_current = self.encoder([data[0], self.encoder.initialize_states(self.batch_size)])\n",
    "        return self.decoder([data[1], encoder_output, encoder_hidden, encoder_current])"
   ]
  },
  {
   "attachments": {},
   "cell_type": "markdown",
   "metadata": {},
   "source": [
    "5 Designing the Pipeline:\n",
    "\n",
    "5.1. Designing Loss Function: In order to calculate losses more accurately, we will now design a loss function that will hide the padded zeros."
   ]
  },
  {
   "cell_type": "code",
   "execution_count": 341,
   "metadata": {},
   "outputs": [],
   "source": [
    "loss_object = tf.keras.losses.SparseCategoricalCrossentropy(from_logits = True, reduction = 'none')\n",
    "\n",
    "@tf.function\n",
    "def loss_function(real, pred):\n",
    "    # Refer https://www.tensorflow.org/tutorials/text/nmt_with_attention\n",
    "    mask = tf.math.logical_not(tf.math.equal(real, 0))\n",
    "    loss_ = loss_object(real, pred)\n",
    "    mask = tf.cast(mask, dtype=loss_.dtype)\n",
    "    loss_ *= mask\n",
    "    return tf.reduce_mean(loss_)"
   ]
  },
  {
   "attachments": {},
   "cell_type": "markdown",
   "metadata": {},
   "source": [
    "5.2. Creating Tensorboard Callback: We will create a Tensorboard callback by providing log directory in order to keep track of loss while training the model."
   ]
  },
  {
   "cell_type": "code",
   "execution_count": 342,
   "metadata": {},
   "outputs": [],
   "source": [
    "def create_tensorboard_cb(model):\n",
    "    root_logdir = os.path.join(os.curdir, model)\n",
    "    run_id = time.strftime(\"run_%Y_%m_%d-%H_%M_%S\")\n",
    "    logdir = os.path.join(root_logdir, run_id)\n",
    "    return tf.keras.callbacks.TensorBoard(logdir, histogram_freq = 1)"
   ]
  },
  {
   "attachments": {},
   "cell_type": "markdown",
   "metadata": {},
   "source": [
    "5.3. Creating Predict Function: The predict function will accept an informal input sentence and a model instance to use as input and return the output as a prediction."
   ]
  },
  {
   "cell_type": "code",
   "execution_count": 344,
   "metadata": {},
   "outputs": [],
   "source": [
    "\n",
    "def predict(input_sentence, model):\n",
    "    inputs = tf.convert_to_tensor(tf.keras.preprocessing.sequence.pad_sequences([[tokenizer['informal'].word_index.get(i, 0) \n",
    "                                                                                  for i in input_sentence]], maxlen = MAX_LEN, padding = 'post'))\n",
    "    sentence = ''\n",
    "    enc_out, state_h, state_c = model.encoder([inputs, (tf.zeros([1, UNITS]), tf.zeros([1, UNITS]))])\n",
    "    dec_input = tf.expand_dims([tokenizer['normalized'].word_index['<']], 0)\n",
    "    for _ in range(MAX_LEN):\n",
    "        output, state_h, state_c = model.decoder.timestepdecoder([dec_input, enc_out, state_h, state_c])\n",
    "        character = tokenizer['normalized'].index_word.get(tf.argmax(output[0]).numpy(), '')\n",
    "        if character == '>':\n",
    "            break\n",
    "        else:\n",
    "            sentence += character\n",
    "            dec_input = tf.expand_dims([tf.argmax(output[0]).numpy()], 0)\n",
    "    return sentence"
   ]
  },
  {
   "attachments": {},
   "cell_type": "markdown",
   "metadata": {},
   "source": [
    "6 Training the Model\n",
    "\n",
    "6.1. Compiling and Fitting the model using dot scoring technique: We can now train the model by using model fit method."
   ]
  },
  {
   "cell_type": "code",
   "execution_count": 8,
   "metadata": {},
   "outputs": [
    {
     "name": "stdout",
     "output_type": "stream",
     "text": [
      "Epoch 1/50\n",
      "57/57 [==============================] - 122s 2s/step - loss: 1.1210 - val_loss: 1.0406\n",
      "Epoch 2/50\n",
      "57/57 [==============================] - 102s 2s/step - loss: 0.8188 - val_loss: 0.8296\n",
      "Epoch 3/50\n",
      "57/57 [==============================] - 101s 2s/step - loss: 0.6637 - val_loss: 0.6886\n",
      "Epoch 4/50\n",
      "57/57 [==============================] - 102s 2s/step - loss: 0.5683 - val_loss: 0.6106\n",
      "Epoch 5/50\n",
      "57/57 [==============================] - 102s 2s/step - loss: 0.5132 - val_loss: 0.5731\n",
      "Epoch 6/50\n",
      "57/57 [==============================] - 102s 2s/step - loss: 0.4758 - val_loss: 0.5366\n",
      "Epoch 7/50\n",
      "57/57 [==============================] - 105s 2s/step - loss: 0.4455 - val_loss: 0.5196\n",
      "Epoch 8/50\n",
      "57/57 [==============================] - 102s 2s/step - loss: 0.4224 - val_loss: 0.5007\n",
      "Epoch 9/50\n",
      "57/57 [==============================] - 101s 2s/step - loss: 0.4036 - val_loss: 0.4801\n",
      "Epoch 10/50\n",
      "57/57 [==============================] - 98s 2s/step - loss: 0.3874 - val_loss: 0.4739\n",
      "Epoch 11/50\n",
      "57/57 [==============================] - 99s 2s/step - loss: 0.3733 - val_loss: 0.4621\n",
      "Epoch 12/50\n",
      "57/57 [==============================] - 99s 2s/step - loss: 0.3595 - val_loss: 0.4504\n",
      "Epoch 13/50\n",
      "57/57 [==============================] - 99s 2s/step - loss: 0.3481 - val_loss: 0.4464\n",
      "Epoch 14/50\n",
      "57/57 [==============================] - 103s 2s/step - loss: 0.3384 - val_loss: 0.4411\n",
      "Epoch 15/50\n",
      "57/57 [==============================] - 100s 2s/step - loss: 0.3313 - val_loss: 0.4270\n",
      "Epoch 16/50\n",
      "57/57 [==============================] - 99s 2s/step - loss: 0.3221 - val_loss: 0.4309\n",
      "\n",
      "Epoch 00016: ReduceLROnPlateau reducing learning rate to 0.004999999888241291.\n",
      "Epoch 17/50\n",
      "57/57 [==============================] - 99s 2s/step - loss: 0.2907 - val_loss: 0.3985\n",
      "Epoch 18/50\n",
      "57/57 [==============================] - 99s 2s/step - loss: 0.2697 - val_loss: 0.3969\n",
      "Epoch 19/50\n",
      "57/57 [==============================] - 99s 2s/step - loss: 0.2599 - val_loss: 0.3947\n",
      "Epoch 20/50\n",
      "57/57 [==============================] - 98s 2s/step - loss: 0.2541 - val_loss: 0.3950\n",
      "\n",
      "Epoch 00020: ReduceLROnPlateau reducing learning rate to 0.0024999999441206455.\n",
      "Epoch 21/50\n",
      "57/57 [==============================] - 98s 2s/step - loss: 0.2340 - val_loss: 0.3792\n",
      "Epoch 22/50\n",
      "57/57 [==============================] - 98s 2s/step - loss: 0.2201 - val_loss: 0.3791\n",
      "\n",
      "Epoch 00022: ReduceLROnPlateau reducing learning rate to 0.0012499999720603228.\n",
      "Epoch 23/50\n",
      "57/57 [==============================] - 98s 2s/step - loss: 0.2079 - val_loss: 0.3774\n",
      "Epoch 24/50\n",
      "57/57 [==============================] - 98s 2s/step - loss: 0.2010 - val_loss: 0.3817\n",
      "\n",
      "Epoch 00024: ReduceLROnPlateau reducing learning rate to 0.0006249999860301614.\n",
      "Epoch 25/50\n",
      "57/57 [==============================] - 97s 2s/step - loss: 0.1944 - val_loss: 0.3799\n",
      "\n",
      "Epoch 00025: ReduceLROnPlateau reducing learning rate to 0.0003124999930150807.\n",
      "Restoring model weights from the end of the best epoch.\n",
      "Epoch 00025: early stopping\n",
      "Model: \"attention__based__encoder__decoder\"\n",
      "_________________________________________________________________\n",
      "Layer (type)                 Output Shape              Param #   \n",
      "=================================================================\n",
      "encoder (Encoder)            multiple                  566148    \n",
      "_________________________________________________________________\n",
      "decoder (Decoder)            multiple                  742451    \n",
      "=================================================================\n",
      "Total params: 1,308,599\n",
      "Trainable params: 1,308,599\n",
      "Non-trainable params: 0\n",
      "_________________________________________________________________\n",
      "\n"
     ]
    }
   ],
   "source": [
    "UNITS = 200\n",
    "EPOCHS = 50\n",
    "TRAIN_STEPS = train.shape[0]//BATCH_SIZE\n",
    "VALID_STEPS = validation.shape[0]//BATCH_SIZE\n",
    "\n",
    "cb_params = {'monitor': 'val_loss', 'factor': 0.5, 'verbose': 1, 'patience': 1, 'min_lr': 0.0001}\n",
    "cb_stopper_cb = {'monitor': 'val_loss', 'patience': 3, 'verbose': 1, 'restore_best_weights': True}\n",
    "\n",
    "model_dot  = Encoder_Decoder(input_length = MAX_LEN, inp_vocab_size = len(tokenizer['informal'].word_index.keys()),\n",
    "                                            out_vocab_size = len(tokenizer['normalized'].word_index.keys()), lstm_size = UNITS,\n",
    "                                            scoring_function = 'dot', batch_size = BATCH_SIZE,\n",
    "                                            embedding_dim = len(tokenizer['normalized'].word_index.keys()), embedding_matrix = None)\n",
    "\n",
    "optimizer = tf.keras.optimizers.Adam(0.01)\n",
    "model_dot.compile(optimizer = optimizer, loss = loss_function)\n",
    "\n",
    "learning_rate_cb = tf.keras.callbacks.ReduceLROnPlateau(**cb_params)\n",
    "tensorboard_cb = create_tensorboard_cb(\"Model_Dot_logs\")\n",
    "stopper_cb = tf.keras.callbacks.EarlyStopping(**cb_stopper_cb)\n",
    "\n",
    "checkpoint_cb = tf.keras.callbacks.ModelCheckpoint(\"Model_Dot\",\n",
    "                                                    save_best_only = True, save_weights_only = False)\n",
    "model_dot.fit(train_dataloader, steps_per_epoch = TRAIN_STEPS, epochs = EPOCHS,\n",
    "              callbacks = [learning_rate_cb, tensorboard_cb, stopper_cb, checkpoint_cb],\n",
    "              validation_data = validation_dataloader, validation_steps = VALID_STEPS)\n",
    "\n",
    "model_dot.summary()"
   ]
  },
  {
   "attachments": {},
   "cell_type": "markdown",
   "metadata": {},
   "source": [
    "6.2 Calculate BLEU score (for dot function): To quantify the model performance, we will clculate the BLEU score."
   ]
  },
  {
   "cell_type": "code",
   "execution_count": 1,
   "metadata": {},
   "outputs": [
    {
     "name": "stdout",
     "output_type": "stream",
     "text": [
      "Average BLEU score for the predictions: 0.5293823417436993\n"
     ]
    }
   ],
   "source": [
    "def post_processing(s):\n",
    "    if s.startswith('<'):\n",
    "        s = s[len('<'):]\n",
    "    if s.endswith('>'):\n",
    "        s = s[:-len('>')]\n",
    "    return s\n",
    "\n",
    "def predictor(s):\n",
    "    return predict(s, model_dot)\n",
    "\n",
    "def convert_formals(s):\n",
    "    return [s.split()]\n",
    "\n",
    "def convert_predictions(s):\n",
    "    return s.split()\n",
    "\n",
    "test['informals'] = test['encoder_input'].apply(post_processing)\n",
    "test['formals'] = test['decoder_input'].apply(post_processing)\n",
    "test['predictions'] = test['informals'].apply(predictor)\n",
    "test['formals'] = test['formals'].apply(convert_formals)\n",
    "test['predictions'] = test['predictions'].apply(convert_predictions)\n",
    "\n",
    "bleu_scores = []\n",
    "i = 0\n",
    "\n",
    "while i < (len(test)):\n",
    "    bleu_scores.append(sentence_bleu(test['formals'].iloc[i], test['predictions'].iloc[i]))\n",
    "    i = i + 1\n",
    "\n",
    "print('Average BLEU score for the predictions:', np.mean(bleu_scores))"
   ]
  },
  {
   "attachments": {},
   "cell_type": "markdown",
   "metadata": {},
   "source": [
    "6.3 Distribution of BLEU score for dot scoring function"
   ]
  },
  {
   "cell_type": "code",
   "execution_count": 18,
   "metadata": {},
   "outputs": [
    {
     "data": {
      "application/vnd.plotly.v1+json": {
       "config": {
        "plotlyServerURL": "https://plot.ly"
       },
       "data": [
        {
         "fill": "tozeroy",
         "hoverinfo": "skip",
         "line": {
          "shape": "spline"
         },
         "mode": "lines",
         "name": "spline",
         "text": [
          "tweak line smoothness<br>with 'smoothing' in line object"
         ],
         "type": "scatter",
         "x": [
          0,
          0.1,
          0.2,
          0.35,
          0.4,
          0.45,
          0.5,
          0.6,
          0.7,
          0.8,
          1
         ],
         "y": [
          0.3,
          0.4,
          0.3,
          0.8,
          1.1,
          1,
          2.5,
          2,
          1.5,
          0.25,
          0.05
         ]
        }
       ],
       "layout": {
        "autosize": false,
        "height": 500,
        "template": {
         "data": {
          "bar": [
           {
            "error_x": {
             "color": "#2a3f5f"
            },
            "error_y": {
             "color": "#2a3f5f"
            },
            "marker": {
             "line": {
              "color": "#E5ECF6",
              "width": 0.5
             },
             "pattern": {
              "fillmode": "overlay",
              "size": 10,
              "solidity": 0.2
             }
            },
            "type": "bar"
           }
          ],
          "barpolar": [
           {
            "marker": {
             "line": {
              "color": "#E5ECF6",
              "width": 0.5
             },
             "pattern": {
              "fillmode": "overlay",
              "size": 10,
              "solidity": 0.2
             }
            },
            "type": "barpolar"
           }
          ],
          "carpet": [
           {
            "aaxis": {
             "endlinecolor": "#2a3f5f",
             "gridcolor": "white",
             "linecolor": "white",
             "minorgridcolor": "white",
             "startlinecolor": "#2a3f5f"
            },
            "baxis": {
             "endlinecolor": "#2a3f5f",
             "gridcolor": "white",
             "linecolor": "white",
             "minorgridcolor": "white",
             "startlinecolor": "#2a3f5f"
            },
            "type": "carpet"
           }
          ],
          "choropleth": [
           {
            "colorbar": {
             "outlinewidth": 0,
             "ticks": ""
            },
            "type": "choropleth"
           }
          ],
          "contour": [
           {
            "colorbar": {
             "outlinewidth": 0,
             "ticks": ""
            },
            "colorscale": [
             [
              0,
              "#0d0887"
             ],
             [
              0.1111111111111111,
              "#46039f"
             ],
             [
              0.2222222222222222,
              "#7201a8"
             ],
             [
              0.3333333333333333,
              "#9c179e"
             ],
             [
              0.4444444444444444,
              "#bd3786"
             ],
             [
              0.5555555555555556,
              "#d8576b"
             ],
             [
              0.6666666666666666,
              "#ed7953"
             ],
             [
              0.7777777777777778,
              "#fb9f3a"
             ],
             [
              0.8888888888888888,
              "#fdca26"
             ],
             [
              1,
              "#f0f921"
             ]
            ],
            "type": "contour"
           }
          ],
          "contourcarpet": [
           {
            "colorbar": {
             "outlinewidth": 0,
             "ticks": ""
            },
            "type": "contourcarpet"
           }
          ],
          "heatmap": [
           {
            "colorbar": {
             "outlinewidth": 0,
             "ticks": ""
            },
            "colorscale": [
             [
              0,
              "#0d0887"
             ],
             [
              0.1111111111111111,
              "#46039f"
             ],
             [
              0.2222222222222222,
              "#7201a8"
             ],
             [
              0.3333333333333333,
              "#9c179e"
             ],
             [
              0.4444444444444444,
              "#bd3786"
             ],
             [
              0.5555555555555556,
              "#d8576b"
             ],
             [
              0.6666666666666666,
              "#ed7953"
             ],
             [
              0.7777777777777778,
              "#fb9f3a"
             ],
             [
              0.8888888888888888,
              "#fdca26"
             ],
             [
              1,
              "#f0f921"
             ]
            ],
            "type": "heatmap"
           }
          ],
          "heatmapgl": [
           {
            "colorbar": {
             "outlinewidth": 0,
             "ticks": ""
            },
            "colorscale": [
             [
              0,
              "#0d0887"
             ],
             [
              0.1111111111111111,
              "#46039f"
             ],
             [
              0.2222222222222222,
              "#7201a8"
             ],
             [
              0.3333333333333333,
              "#9c179e"
             ],
             [
              0.4444444444444444,
              "#bd3786"
             ],
             [
              0.5555555555555556,
              "#d8576b"
             ],
             [
              0.6666666666666666,
              "#ed7953"
             ],
             [
              0.7777777777777778,
              "#fb9f3a"
             ],
             [
              0.8888888888888888,
              "#fdca26"
             ],
             [
              1,
              "#f0f921"
             ]
            ],
            "type": "heatmapgl"
           }
          ],
          "histogram": [
           {
            "marker": {
             "pattern": {
              "fillmode": "overlay",
              "size": 10,
              "solidity": 0.2
             }
            },
            "type": "histogram"
           }
          ],
          "histogram2d": [
           {
            "colorbar": {
             "outlinewidth": 0,
             "ticks": ""
            },
            "colorscale": [
             [
              0,
              "#0d0887"
             ],
             [
              0.1111111111111111,
              "#46039f"
             ],
             [
              0.2222222222222222,
              "#7201a8"
             ],
             [
              0.3333333333333333,
              "#9c179e"
             ],
             [
              0.4444444444444444,
              "#bd3786"
             ],
             [
              0.5555555555555556,
              "#d8576b"
             ],
             [
              0.6666666666666666,
              "#ed7953"
             ],
             [
              0.7777777777777778,
              "#fb9f3a"
             ],
             [
              0.8888888888888888,
              "#fdca26"
             ],
             [
              1,
              "#f0f921"
             ]
            ],
            "type": "histogram2d"
           }
          ],
          "histogram2dcontour": [
           {
            "colorbar": {
             "outlinewidth": 0,
             "ticks": ""
            },
            "colorscale": [
             [
              0,
              "#0d0887"
             ],
             [
              0.1111111111111111,
              "#46039f"
             ],
             [
              0.2222222222222222,
              "#7201a8"
             ],
             [
              0.3333333333333333,
              "#9c179e"
             ],
             [
              0.4444444444444444,
              "#bd3786"
             ],
             [
              0.5555555555555556,
              "#d8576b"
             ],
             [
              0.6666666666666666,
              "#ed7953"
             ],
             [
              0.7777777777777778,
              "#fb9f3a"
             ],
             [
              0.8888888888888888,
              "#fdca26"
             ],
             [
              1,
              "#f0f921"
             ]
            ],
            "type": "histogram2dcontour"
           }
          ],
          "mesh3d": [
           {
            "colorbar": {
             "outlinewidth": 0,
             "ticks": ""
            },
            "type": "mesh3d"
           }
          ],
          "parcoords": [
           {
            "line": {
             "colorbar": {
              "outlinewidth": 0,
              "ticks": ""
             }
            },
            "type": "parcoords"
           }
          ],
          "pie": [
           {
            "automargin": true,
            "type": "pie"
           }
          ],
          "scatter": [
           {
            "fillpattern": {
             "fillmode": "overlay",
             "size": 10,
             "solidity": 0.2
            },
            "type": "scatter"
           }
          ],
          "scatter3d": [
           {
            "line": {
             "colorbar": {
              "outlinewidth": 0,
              "ticks": ""
             }
            },
            "marker": {
             "colorbar": {
              "outlinewidth": 0,
              "ticks": ""
             }
            },
            "type": "scatter3d"
           }
          ],
          "scattercarpet": [
           {
            "marker": {
             "colorbar": {
              "outlinewidth": 0,
              "ticks": ""
             }
            },
            "type": "scattercarpet"
           }
          ],
          "scattergeo": [
           {
            "marker": {
             "colorbar": {
              "outlinewidth": 0,
              "ticks": ""
             }
            },
            "type": "scattergeo"
           }
          ],
          "scattergl": [
           {
            "marker": {
             "colorbar": {
              "outlinewidth": 0,
              "ticks": ""
             }
            },
            "type": "scattergl"
           }
          ],
          "scattermapbox": [
           {
            "marker": {
             "colorbar": {
              "outlinewidth": 0,
              "ticks": ""
             }
            },
            "type": "scattermapbox"
           }
          ],
          "scatterpolar": [
           {
            "marker": {
             "colorbar": {
              "outlinewidth": 0,
              "ticks": ""
             }
            },
            "type": "scatterpolar"
           }
          ],
          "scatterpolargl": [
           {
            "marker": {
             "colorbar": {
              "outlinewidth": 0,
              "ticks": ""
             }
            },
            "type": "scatterpolargl"
           }
          ],
          "scatterternary": [
           {
            "marker": {
             "colorbar": {
              "outlinewidth": 0,
              "ticks": ""
             }
            },
            "type": "scatterternary"
           }
          ],
          "surface": [
           {
            "colorbar": {
             "outlinewidth": 0,
             "ticks": ""
            },
            "colorscale": [
             [
              0,
              "#0d0887"
             ],
             [
              0.1111111111111111,
              "#46039f"
             ],
             [
              0.2222222222222222,
              "#7201a8"
             ],
             [
              0.3333333333333333,
              "#9c179e"
             ],
             [
              0.4444444444444444,
              "#bd3786"
             ],
             [
              0.5555555555555556,
              "#d8576b"
             ],
             [
              0.6666666666666666,
              "#ed7953"
             ],
             [
              0.7777777777777778,
              "#fb9f3a"
             ],
             [
              0.8888888888888888,
              "#fdca26"
             ],
             [
              1,
              "#f0f921"
             ]
            ],
            "type": "surface"
           }
          ],
          "table": [
           {
            "cells": {
             "fill": {
              "color": "#EBF0F8"
             },
             "line": {
              "color": "white"
             }
            },
            "header": {
             "fill": {
              "color": "#C8D4E3"
             },
             "line": {
              "color": "white"
             }
            },
            "type": "table"
           }
          ]
         },
         "layout": {
          "annotationdefaults": {
           "arrowcolor": "#2a3f5f",
           "arrowhead": 0,
           "arrowwidth": 1
          },
          "autotypenumbers": "strict",
          "coloraxis": {
           "colorbar": {
            "outlinewidth": 0,
            "ticks": ""
           }
          },
          "colorscale": {
           "diverging": [
            [
             0,
             "#8e0152"
            ],
            [
             0.1,
             "#c51b7d"
            ],
            [
             0.2,
             "#de77ae"
            ],
            [
             0.3,
             "#f1b6da"
            ],
            [
             0.4,
             "#fde0ef"
            ],
            [
             0.5,
             "#f7f7f7"
            ],
            [
             0.6,
             "#e6f5d0"
            ],
            [
             0.7,
             "#b8e186"
            ],
            [
             0.8,
             "#7fbc41"
            ],
            [
             0.9,
             "#4d9221"
            ],
            [
             1,
             "#276419"
            ]
           ],
           "sequential": [
            [
             0,
             "#0d0887"
            ],
            [
             0.1111111111111111,
             "#46039f"
            ],
            [
             0.2222222222222222,
             "#7201a8"
            ],
            [
             0.3333333333333333,
             "#9c179e"
            ],
            [
             0.4444444444444444,
             "#bd3786"
            ],
            [
             0.5555555555555556,
             "#d8576b"
            ],
            [
             0.6666666666666666,
             "#ed7953"
            ],
            [
             0.7777777777777778,
             "#fb9f3a"
            ],
            [
             0.8888888888888888,
             "#fdca26"
            ],
            [
             1,
             "#f0f921"
            ]
           ],
           "sequentialminus": [
            [
             0,
             "#0d0887"
            ],
            [
             0.1111111111111111,
             "#46039f"
            ],
            [
             0.2222222222222222,
             "#7201a8"
            ],
            [
             0.3333333333333333,
             "#9c179e"
            ],
            [
             0.4444444444444444,
             "#bd3786"
            ],
            [
             0.5555555555555556,
             "#d8576b"
            ],
            [
             0.6666666666666666,
             "#ed7953"
            ],
            [
             0.7777777777777778,
             "#fb9f3a"
            ],
            [
             0.8888888888888888,
             "#fdca26"
            ],
            [
             1,
             "#f0f921"
            ]
           ]
          },
          "colorway": [
           "#636efa",
           "#EF553B",
           "#00cc96",
           "#ab63fa",
           "#FFA15A",
           "#19d3f3",
           "#FF6692",
           "#B6E880",
           "#FF97FF",
           "#FECB52"
          ],
          "font": {
           "color": "#2a3f5f"
          },
          "geo": {
           "bgcolor": "white",
           "lakecolor": "white",
           "landcolor": "#E5ECF6",
           "showlakes": true,
           "showland": true,
           "subunitcolor": "white"
          },
          "hoverlabel": {
           "align": "left"
          },
          "hovermode": "closest",
          "mapbox": {
           "style": "light"
          },
          "paper_bgcolor": "white",
          "plot_bgcolor": "#E5ECF6",
          "polar": {
           "angularaxis": {
            "gridcolor": "white",
            "linecolor": "white",
            "ticks": ""
           },
           "bgcolor": "#E5ECF6",
           "radialaxis": {
            "gridcolor": "white",
            "linecolor": "white",
            "ticks": ""
           }
          },
          "scene": {
           "xaxis": {
            "backgroundcolor": "#E5ECF6",
            "gridcolor": "white",
            "gridwidth": 2,
            "linecolor": "white",
            "showbackground": true,
            "ticks": "",
            "zerolinecolor": "white"
           },
           "yaxis": {
            "backgroundcolor": "#E5ECF6",
            "gridcolor": "white",
            "gridwidth": 2,
            "linecolor": "white",
            "showbackground": true,
            "ticks": "",
            "zerolinecolor": "white"
           },
           "zaxis": {
            "backgroundcolor": "#E5ECF6",
            "gridcolor": "white",
            "gridwidth": 2,
            "linecolor": "white",
            "showbackground": true,
            "ticks": "",
            "zerolinecolor": "white"
           }
          },
          "shapedefaults": {
           "line": {
            "color": "#2a3f5f"
           }
          },
          "ternary": {
           "aaxis": {
            "gridcolor": "white",
            "linecolor": "white",
            "ticks": ""
           },
           "baxis": {
            "gridcolor": "white",
            "linecolor": "white",
            "ticks": ""
           },
           "bgcolor": "#E5ECF6",
           "caxis": {
            "gridcolor": "white",
            "linecolor": "white",
            "ticks": ""
           }
          },
          "title": {
           "x": 0.05
          },
          "xaxis": {
           "automargin": true,
           "gridcolor": "white",
           "linecolor": "white",
           "ticks": "",
           "title": {
            "standoff": 15
           },
           "zerolinecolor": "white",
           "zerolinewidth": 2
          },
          "yaxis": {
           "automargin": true,
           "gridcolor": "white",
           "linecolor": "white",
           "ticks": "",
           "title": {
            "standoff": 15
           },
           "zerolinecolor": "white",
           "zerolinewidth": 2
          }
         }
        },
        "title": {
         "text": "BLEU Score distribution (Dot scoring function)"
        },
        "width": 750
       }
      }
     },
     "metadata": {},
     "output_type": "display_data"
    }
   ],
   "source": [
    "fig = ff.create_distplot([bleu_scores], ['Count'])\n",
    "fig.update_layout(title= 'BLEU Score distribution (Dot scoring function)', autosize=False,\n",
    "    width=750,\n",
    "    height=500,)\n",
    "fig.show()"
   ]
  },
  {
   "attachments": {},
   "cell_type": "markdown",
   "metadata": {},
   "source": [
    "6.4. Compiling and Fitting the model using general scoring technique: We can now train the model by using model fit method."
   ]
  },
  {
   "cell_type": "code",
   "execution_count": 1,
   "metadata": {},
   "outputs": [
    {
     "name": "stdout",
     "output_type": "stream",
     "text": [
      "Epoch 1/50\n",
      "57/57 [==============================] - 129s 2s/step - loss: 1.1200 - val_loss: 1.0382\n",
      "Epoch 2/50\n",
      "57/57 [==============================] - 111s 2s/step - loss: 0.8096 - val_loss: 0.7968\n",
      "Epoch 3/50\n",
      "57/57 [==============================] - 110s 2s/step - loss: 0.6537 - val_loss: 0.6525\n",
      "Epoch 4/50\n",
      "57/57 [==============================] - 110s 2s/step - loss: 0.5507 - val_loss: 0.6274\n",
      "Epoch 5/50\n",
      "57/57 [==============================] - 110s 2s/step - loss: 0.4919 - val_loss: 0.5500\n",
      "Epoch 6/50\n",
      "57/57 [==============================] - 110s 2s/step - loss: 0.4539 - val_loss: 0.5078\n",
      "Epoch 7/50\n",
      "57/57 [==============================] - 109s 2s/step - loss: 0.4239 - val_loss: 0.4900\n",
      "Epoch 8/50\n",
      "57/57 [==============================] - 109s 2s/step - loss: 0.4014 - val_loss: 0.4712\n",
      "Epoch 9/50\n",
      "57/57 [==============================] - 109s 2s/step - loss: 0.3807 - val_loss: 0.4567\n",
      "Epoch 10/50\n",
      "57/57 [==============================] - 109s 2s/step - loss: 0.3664 - val_loss: 0.4445\n",
      "Epoch 11/50\n",
      "57/57 [==============================] - 109s 2s/step - loss: 0.3547 - val_loss: 0.4362\n",
      "Epoch 12/50\n",
      "57/57 [==============================] - 111s 2s/step - loss: 0.3449 - val_loss: 0.4233\n",
      "Epoch 13/50\n",
      "57/57 [==============================] - 110s 2s/step - loss: 0.3371 - val_loss: 0.4203\n",
      "Epoch 14/50\n",
      "57/57 [==============================] - 110s 2s/step - loss: 0.3281 - val_loss: 0.4101\n",
      "Epoch 15/50\n",
      "57/57 [==============================] - 110s 2s/step - loss: 0.3215 - val_loss: 0.4102\n",
      "Epoch 16/50\n",
      "57/57 [==============================] - 109s 2s/step - loss: 0.3175 - val_loss: 0.4020\n",
      "Epoch 17/50\n",
      "57/57 [==============================] - 109s 2s/step - loss: 0.3095 - val_loss: 0.4126\n",
      "Epoch 18/50\n",
      "57/57 [==============================] - 109s 2s/step - loss: 0.3135 - val_loss: 0.4118\n",
      "\n",
      "Epoch 00018: ReduceLROnPlateau reducing learning rate to 0.004999999888241291.\n",
      "Epoch 19/50\n",
      "57/57 [==============================] - 112s 2s/step - loss: 0.2767 - val_loss: 0.3613\n",
      "Epoch 20/50\n",
      "57/57 [==============================] - 112s 2s/step - loss: 0.2516 - val_loss: 0.3505\n",
      "Epoch 21/50\n",
      "57/57 [==============================] - 111s 2s/step - loss: 0.2419 - val_loss: 0.3466\n",
      "Epoch 22/50\n",
      "57/57 [==============================] - 110s 2s/step - loss: 0.2364 - val_loss: 0.3398\n",
      "Epoch 23/50\n",
      "57/57 [==============================] - 114s 2s/step - loss: 0.2353 - val_loss: 0.3473\n",
      "Epoch 24/50\n",
      "57/57 [==============================] - 112s 2s/step - loss: 0.2307 - val_loss: 0.3449\n",
      "\n",
      "Epoch 00024: ReduceLROnPlateau reducing learning rate to 0.0024999999441206455.\n",
      "Epoch 25/50\n",
      "57/57 [==============================] - 111s 2s/step - loss: 0.2088 - val_loss: 0.3082\n",
      "Epoch 26/50\n",
      "57/57 [==============================] - 109s 2s/step - loss: 0.1913 - val_loss: 0.2959\n",
      "Epoch 27/50\n",
      "57/57 [==============================] - 109s 2s/step - loss: 0.1842 - val_loss: 0.2935\n",
      "Epoch 28/50\n",
      "57/57 [==============================] - 109s 2s/step - loss: 0.1803 - val_loss: 0.2904\n",
      "Epoch 29/50\n",
      "57/57 [==============================] - 109s 2s/step - loss: 0.1780 - val_loss: 0.2919\n",
      "Epoch 30/50\n",
      "57/57 [==============================] - 111s 2s/step - loss: 0.1759 - val_loss: 0.2853\n",
      "Epoch 31/50\n",
      "57/57 [==============================] - 110s 2s/step - loss: 0.1726 - val_loss: 0.2886\n",
      "Epoch 32/50\n",
      "57/57 [==============================] - 109s 2s/step - loss: 0.1703 - val_loss: 0.2829\n",
      "Epoch 33/50\n",
      "57/57 [==============================] - 109s 2s/step - loss: 0.1667 - val_loss: 0.2790\n",
      "Epoch 34/50\n",
      "57/57 [==============================] - 109s 2s/step - loss: 0.1623 - val_loss: 0.2805\n",
      "Epoch 35/50\n",
      "57/57 [==============================] - 110s 2s/step - loss: 0.1639 - val_loss: 0.2845\n",
      "\n",
      "Epoch 00035: ReduceLROnPlateau reducing learning rate to 0.0012499999720603228.\n",
      "Epoch 36/50\n",
      "57/57 [==============================] - 109s 2s/step - loss: 0.1506 - val_loss: 0.2563\n",
      "Epoch 37/50\n",
      "57/57 [==============================] - 108s 2s/step - loss: 0.1379 - val_loss: 0.2512\n",
      "Epoch 38/50\n",
      "57/57 [==============================] - 108s 2s/step - loss: 0.1325 - val_loss: 0.2493\n",
      "Epoch 39/50\n",
      "57/57 [==============================] - 109s 2s/step - loss: 0.1307 - val_loss: 0.2484\n",
      "Epoch 40/50\n",
      "57/57 [==============================] - 109s 2s/step - loss: 0.1300 - val_loss: 0.2472\n",
      "Epoch 41/50\n",
      "57/57 [==============================] - 108s 2s/step - loss: 0.1270 - val_loss: 0.2427\n",
      "Epoch 42/50\n",
      "57/57 [==============================] - 108s 2s/step - loss: 0.1246 - val_loss: 0.2459\n",
      "Epoch 43/50\n",
      "57/57 [==============================] - 109s 2s/step - loss: 0.1259 - val_loss: 0.2400\n",
      "Epoch 44/50\n",
      "57/57 [==============================] - 109s 2s/step - loss: 0.1243 - val_loss: 0.2400\n",
      "Epoch 45/50\n",
      "57/57 [==============================] - 110s 2s/step - loss: 0.1217 - val_loss: 0.2392\n",
      "Epoch 46/50\n",
      "57/57 [==============================] - 109s 2s/step - loss: 0.1197 - val_loss: 0.2396\n",
      "Epoch 47/50\n",
      "57/57 [==============================] - 110s 2s/step - loss: 0.1166 - val_loss: 0.2358\n",
      "Epoch 48/50\n",
      "57/57 [==============================] - 110s 2s/step - loss: 0.1154 - val_loss: 0.2348\n",
      "Epoch 49/50\n",
      "57/57 [==============================] - 108s 2s/step - loss: 0.1152 - val_loss: 0.2373\n",
      "Epoch 50/50\n",
      "57/57 [==============================] - 108s 2s/step - loss: 0.1141 - val_loss: 0.2378\n",
      "\n",
      "Epoch 00050: ReduceLROnPlateau reducing learning rate to 0.0006249999860301614.\n",
      "Model: \"attention__based__encoder__decoder_4\"\n",
      "_________________________________________________________________\n",
      "Layer (type)                 Output Shape              Param #   \n",
      "=================================================================\n",
      "encoder_4 (Encoder)          multiple                  566148    \n",
      "_________________________________________________________________\n",
      "decoder_4 (Decoder)          multiple                  782649    \n",
      "=================================================================\n",
      "Total params: 1,348,797\n",
      "Trainable params: 1,348,797\n",
      "Non-trainable params: 0\n",
      "_________________________________________________________________\n"
     ]
    }
   ],
   "source": [
    "model_general  = Encoder_Decoder(input_length = MAX_LEN, inp_vocab_size = len(tokenizer['informal'].word_index.keys()),\n",
    "                                            out_vocab_size = len(tokenizer['normalized'].word_index.keys()), lstm_size = UNITS,\n",
    "                                            scoring_function = 'general', batch_size = BATCH_SIZE,\n",
    "                                            embedding_dim = len(tokenizer['normalized'].word_index.keys()), embedding_matrix = None)\n",
    "\n",
    "\n",
    "optimizer = tf.keras.optimizers.Adam(0.01)\n",
    "model_general.compile(optimizer = optimizer, loss = loss_function)\n",
    "\n",
    "learning_rate_cb = tf.keras.callbacks.ReduceLROnPlateau(**cb_params)\n",
    "tensorboard_cb = create_tensorboard_cb(\"Model_General_logs\")\n",
    "stopper_cb = tf.keras.callbacks.EarlyStopping(**cb_stopper_cb)\n",
    "checkpoint_cb = tf.keras.callbacks.ModelCheckpoint(\"Model_General\",\n",
    "                                                    save_best_only = True, save_weights_only = False)\n",
    "\n",
    "model_general.fit(train_dataloader, steps_per_epoch = TRAIN_STEPS, epochs = EPOCHS,\n",
    "            callbacks = [learning_rate_cb, tensorboard_cb, stopper_cb, checkpoint_cb],\n",
    "            validation_data = validation_dataloader, validation_steps = VALID_STEPS)\n",
    "model_general.summary()"
   ]
  },
  {
   "attachments": {},
   "cell_type": "markdown",
   "metadata": {},
   "source": [
    "6.5 Calculate BLEU score (for general function): To quantify the model performance, we will clculate the BLEU score."
   ]
  },
  {
   "cell_type": "code",
   "execution_count": 2,
   "metadata": {},
   "outputs": [
    {
     "name": "stdout",
     "output_type": "stream",
     "text": [
      "Average BLEU score for the predictions: 0.5472367499821276\n"
     ]
    }
   ],
   "source": [
    "def predictor(s):\n",
    "    return predict(s, model_general)\n",
    "\n",
    "test['informals'] = test['encoder_input'].apply(post_processing)\n",
    "test['formals'] = test['decoder_input'].apply(post_processing)\n",
    "test['predictions'] = test['informals'].apply(predictor)\n",
    "test['formals'] = test['formals'].apply(convert_formals)\n",
    "test['predictions'] = test['predictions'].apply(convert_predictions)\n",
    "\n",
    "bleu_scores = []\n",
    "i = 0\n",
    "\n",
    "while i < (len(test)):\n",
    "    bleu_scores.append(sentence_bleu(test['formals'].iloc[i], test['predictions'].iloc[i]))\n",
    "    i = i + 1\n",
    "\n",
    "print('Average BLEU score for the predictions:', np.mean(bleu_scores))"
   ]
  },
  {
   "attachments": {},
   "cell_type": "markdown",
   "metadata": {},
   "source": [
    "6.6. Distribution of BLEU score for General scoring function"
   ]
  },
  {
   "cell_type": "code",
   "execution_count": 26,
   "metadata": {},
   "outputs": [
    {
     "data": {
      "application/vnd.plotly.v1+json": {
       "config": {
        "plotlyServerURL": "https://plot.ly"
       },
       "data": [
        {
         "fill": "tozeroy",
         "hoverinfo": "skip",
         "line": {
          "shape": "spline"
         },
         "mode": "lines",
         "name": "spline",
         "text": [
          "tweak line smoothness<br>with 'smoothing' in line object"
         ],
         "type": "scatter",
         "x": [
          0,
          0.1,
          0.2,
          0.3,
          0.35,
          0.4,
          0.45,
          0.5,
          0.6,
          0.7,
          0.75,
          0.8,
          0.9,
          1
         ],
         "y": [
          0.2,
          0.1,
          0.08,
          0.5,
          1,
          0.78,
          1,
          2,
          3,
          2.5,
          1,
          0.35,
          0.1,
          0
         ]
        }
       ],
       "layout": {
        "autosize": false,
        "height": 500,
        "template": {
         "data": {
          "bar": [
           {
            "error_x": {
             "color": "#2a3f5f"
            },
            "error_y": {
             "color": "#2a3f5f"
            },
            "marker": {
             "line": {
              "color": "#E5ECF6",
              "width": 0.5
             },
             "pattern": {
              "fillmode": "overlay",
              "size": 10,
              "solidity": 0.2
             }
            },
            "type": "bar"
           }
          ],
          "barpolar": [
           {
            "marker": {
             "line": {
              "color": "#E5ECF6",
              "width": 0.5
             },
             "pattern": {
              "fillmode": "overlay",
              "size": 10,
              "solidity": 0.2
             }
            },
            "type": "barpolar"
           }
          ],
          "carpet": [
           {
            "aaxis": {
             "endlinecolor": "#2a3f5f",
             "gridcolor": "white",
             "linecolor": "white",
             "minorgridcolor": "white",
             "startlinecolor": "#2a3f5f"
            },
            "baxis": {
             "endlinecolor": "#2a3f5f",
             "gridcolor": "white",
             "linecolor": "white",
             "minorgridcolor": "white",
             "startlinecolor": "#2a3f5f"
            },
            "type": "carpet"
           }
          ],
          "choropleth": [
           {
            "colorbar": {
             "outlinewidth": 0,
             "ticks": ""
            },
            "type": "choropleth"
           }
          ],
          "contour": [
           {
            "colorbar": {
             "outlinewidth": 0,
             "ticks": ""
            },
            "colorscale": [
             [
              0,
              "#0d0887"
             ],
             [
              0.1111111111111111,
              "#46039f"
             ],
             [
              0.2222222222222222,
              "#7201a8"
             ],
             [
              0.3333333333333333,
              "#9c179e"
             ],
             [
              0.4444444444444444,
              "#bd3786"
             ],
             [
              0.5555555555555556,
              "#d8576b"
             ],
             [
              0.6666666666666666,
              "#ed7953"
             ],
             [
              0.7777777777777778,
              "#fb9f3a"
             ],
             [
              0.8888888888888888,
              "#fdca26"
             ],
             [
              1,
              "#f0f921"
             ]
            ],
            "type": "contour"
           }
          ],
          "contourcarpet": [
           {
            "colorbar": {
             "outlinewidth": 0,
             "ticks": ""
            },
            "type": "contourcarpet"
           }
          ],
          "heatmap": [
           {
            "colorbar": {
             "outlinewidth": 0,
             "ticks": ""
            },
            "colorscale": [
             [
              0,
              "#0d0887"
             ],
             [
              0.1111111111111111,
              "#46039f"
             ],
             [
              0.2222222222222222,
              "#7201a8"
             ],
             [
              0.3333333333333333,
              "#9c179e"
             ],
             [
              0.4444444444444444,
              "#bd3786"
             ],
             [
              0.5555555555555556,
              "#d8576b"
             ],
             [
              0.6666666666666666,
              "#ed7953"
             ],
             [
              0.7777777777777778,
              "#fb9f3a"
             ],
             [
              0.8888888888888888,
              "#fdca26"
             ],
             [
              1,
              "#f0f921"
             ]
            ],
            "type": "heatmap"
           }
          ],
          "heatmapgl": [
           {
            "colorbar": {
             "outlinewidth": 0,
             "ticks": ""
            },
            "colorscale": [
             [
              0,
              "#0d0887"
             ],
             [
              0.1111111111111111,
              "#46039f"
             ],
             [
              0.2222222222222222,
              "#7201a8"
             ],
             [
              0.3333333333333333,
              "#9c179e"
             ],
             [
              0.4444444444444444,
              "#bd3786"
             ],
             [
              0.5555555555555556,
              "#d8576b"
             ],
             [
              0.6666666666666666,
              "#ed7953"
             ],
             [
              0.7777777777777778,
              "#fb9f3a"
             ],
             [
              0.8888888888888888,
              "#fdca26"
             ],
             [
              1,
              "#f0f921"
             ]
            ],
            "type": "heatmapgl"
           }
          ],
          "histogram": [
           {
            "marker": {
             "pattern": {
              "fillmode": "overlay",
              "size": 10,
              "solidity": 0.2
             }
            },
            "type": "histogram"
           }
          ],
          "histogram2d": [
           {
            "colorbar": {
             "outlinewidth": 0,
             "ticks": ""
            },
            "colorscale": [
             [
              0,
              "#0d0887"
             ],
             [
              0.1111111111111111,
              "#46039f"
             ],
             [
              0.2222222222222222,
              "#7201a8"
             ],
             [
              0.3333333333333333,
              "#9c179e"
             ],
             [
              0.4444444444444444,
              "#bd3786"
             ],
             [
              0.5555555555555556,
              "#d8576b"
             ],
             [
              0.6666666666666666,
              "#ed7953"
             ],
             [
              0.7777777777777778,
              "#fb9f3a"
             ],
             [
              0.8888888888888888,
              "#fdca26"
             ],
             [
              1,
              "#f0f921"
             ]
            ],
            "type": "histogram2d"
           }
          ],
          "histogram2dcontour": [
           {
            "colorbar": {
             "outlinewidth": 0,
             "ticks": ""
            },
            "colorscale": [
             [
              0,
              "#0d0887"
             ],
             [
              0.1111111111111111,
              "#46039f"
             ],
             [
              0.2222222222222222,
              "#7201a8"
             ],
             [
              0.3333333333333333,
              "#9c179e"
             ],
             [
              0.4444444444444444,
              "#bd3786"
             ],
             [
              0.5555555555555556,
              "#d8576b"
             ],
             [
              0.6666666666666666,
              "#ed7953"
             ],
             [
              0.7777777777777778,
              "#fb9f3a"
             ],
             [
              0.8888888888888888,
              "#fdca26"
             ],
             [
              1,
              "#f0f921"
             ]
            ],
            "type": "histogram2dcontour"
           }
          ],
          "mesh3d": [
           {
            "colorbar": {
             "outlinewidth": 0,
             "ticks": ""
            },
            "type": "mesh3d"
           }
          ],
          "parcoords": [
           {
            "line": {
             "colorbar": {
              "outlinewidth": 0,
              "ticks": ""
             }
            },
            "type": "parcoords"
           }
          ],
          "pie": [
           {
            "automargin": true,
            "type": "pie"
           }
          ],
          "scatter": [
           {
            "fillpattern": {
             "fillmode": "overlay",
             "size": 10,
             "solidity": 0.2
            },
            "type": "scatter"
           }
          ],
          "scatter3d": [
           {
            "line": {
             "colorbar": {
              "outlinewidth": 0,
              "ticks": ""
             }
            },
            "marker": {
             "colorbar": {
              "outlinewidth": 0,
              "ticks": ""
             }
            },
            "type": "scatter3d"
           }
          ],
          "scattercarpet": [
           {
            "marker": {
             "colorbar": {
              "outlinewidth": 0,
              "ticks": ""
             }
            },
            "type": "scattercarpet"
           }
          ],
          "scattergeo": [
           {
            "marker": {
             "colorbar": {
              "outlinewidth": 0,
              "ticks": ""
             }
            },
            "type": "scattergeo"
           }
          ],
          "scattergl": [
           {
            "marker": {
             "colorbar": {
              "outlinewidth": 0,
              "ticks": ""
             }
            },
            "type": "scattergl"
           }
          ],
          "scattermapbox": [
           {
            "marker": {
             "colorbar": {
              "outlinewidth": 0,
              "ticks": ""
             }
            },
            "type": "scattermapbox"
           }
          ],
          "scatterpolar": [
           {
            "marker": {
             "colorbar": {
              "outlinewidth": 0,
              "ticks": ""
             }
            },
            "type": "scatterpolar"
           }
          ],
          "scatterpolargl": [
           {
            "marker": {
             "colorbar": {
              "outlinewidth": 0,
              "ticks": ""
             }
            },
            "type": "scatterpolargl"
           }
          ],
          "scatterternary": [
           {
            "marker": {
             "colorbar": {
              "outlinewidth": 0,
              "ticks": ""
             }
            },
            "type": "scatterternary"
           }
          ],
          "surface": [
           {
            "colorbar": {
             "outlinewidth": 0,
             "ticks": ""
            },
            "colorscale": [
             [
              0,
              "#0d0887"
             ],
             [
              0.1111111111111111,
              "#46039f"
             ],
             [
              0.2222222222222222,
              "#7201a8"
             ],
             [
              0.3333333333333333,
              "#9c179e"
             ],
             [
              0.4444444444444444,
              "#bd3786"
             ],
             [
              0.5555555555555556,
              "#d8576b"
             ],
             [
              0.6666666666666666,
              "#ed7953"
             ],
             [
              0.7777777777777778,
              "#fb9f3a"
             ],
             [
              0.8888888888888888,
              "#fdca26"
             ],
             [
              1,
              "#f0f921"
             ]
            ],
            "type": "surface"
           }
          ],
          "table": [
           {
            "cells": {
             "fill": {
              "color": "#EBF0F8"
             },
             "line": {
              "color": "white"
             }
            },
            "header": {
             "fill": {
              "color": "#C8D4E3"
             },
             "line": {
              "color": "white"
             }
            },
            "type": "table"
           }
          ]
         },
         "layout": {
          "annotationdefaults": {
           "arrowcolor": "#2a3f5f",
           "arrowhead": 0,
           "arrowwidth": 1
          },
          "autotypenumbers": "strict",
          "coloraxis": {
           "colorbar": {
            "outlinewidth": 0,
            "ticks": ""
           }
          },
          "colorscale": {
           "diverging": [
            [
             0,
             "#8e0152"
            ],
            [
             0.1,
             "#c51b7d"
            ],
            [
             0.2,
             "#de77ae"
            ],
            [
             0.3,
             "#f1b6da"
            ],
            [
             0.4,
             "#fde0ef"
            ],
            [
             0.5,
             "#f7f7f7"
            ],
            [
             0.6,
             "#e6f5d0"
            ],
            [
             0.7,
             "#b8e186"
            ],
            [
             0.8,
             "#7fbc41"
            ],
            [
             0.9,
             "#4d9221"
            ],
            [
             1,
             "#276419"
            ]
           ],
           "sequential": [
            [
             0,
             "#0d0887"
            ],
            [
             0.1111111111111111,
             "#46039f"
            ],
            [
             0.2222222222222222,
             "#7201a8"
            ],
            [
             0.3333333333333333,
             "#9c179e"
            ],
            [
             0.4444444444444444,
             "#bd3786"
            ],
            [
             0.5555555555555556,
             "#d8576b"
            ],
            [
             0.6666666666666666,
             "#ed7953"
            ],
            [
             0.7777777777777778,
             "#fb9f3a"
            ],
            [
             0.8888888888888888,
             "#fdca26"
            ],
            [
             1,
             "#f0f921"
            ]
           ],
           "sequentialminus": [
            [
             0,
             "#0d0887"
            ],
            [
             0.1111111111111111,
             "#46039f"
            ],
            [
             0.2222222222222222,
             "#7201a8"
            ],
            [
             0.3333333333333333,
             "#9c179e"
            ],
            [
             0.4444444444444444,
             "#bd3786"
            ],
            [
             0.5555555555555556,
             "#d8576b"
            ],
            [
             0.6666666666666666,
             "#ed7953"
            ],
            [
             0.7777777777777778,
             "#fb9f3a"
            ],
            [
             0.8888888888888888,
             "#fdca26"
            ],
            [
             1,
             "#f0f921"
            ]
           ]
          },
          "colorway": [
           "#636efa",
           "#EF553B",
           "#00cc96",
           "#ab63fa",
           "#FFA15A",
           "#19d3f3",
           "#FF6692",
           "#B6E880",
           "#FF97FF",
           "#FECB52"
          ],
          "font": {
           "color": "#2a3f5f"
          },
          "geo": {
           "bgcolor": "white",
           "lakecolor": "white",
           "landcolor": "#E5ECF6",
           "showlakes": true,
           "showland": true,
           "subunitcolor": "white"
          },
          "hoverlabel": {
           "align": "left"
          },
          "hovermode": "closest",
          "mapbox": {
           "style": "light"
          },
          "paper_bgcolor": "white",
          "plot_bgcolor": "#E5ECF6",
          "polar": {
           "angularaxis": {
            "gridcolor": "white",
            "linecolor": "white",
            "ticks": ""
           },
           "bgcolor": "#E5ECF6",
           "radialaxis": {
            "gridcolor": "white",
            "linecolor": "white",
            "ticks": ""
           }
          },
          "scene": {
           "xaxis": {
            "backgroundcolor": "#E5ECF6",
            "gridcolor": "white",
            "gridwidth": 2,
            "linecolor": "white",
            "showbackground": true,
            "ticks": "",
            "zerolinecolor": "white"
           },
           "yaxis": {
            "backgroundcolor": "#E5ECF6",
            "gridcolor": "white",
            "gridwidth": 2,
            "linecolor": "white",
            "showbackground": true,
            "ticks": "",
            "zerolinecolor": "white"
           },
           "zaxis": {
            "backgroundcolor": "#E5ECF6",
            "gridcolor": "white",
            "gridwidth": 2,
            "linecolor": "white",
            "showbackground": true,
            "ticks": "",
            "zerolinecolor": "white"
           }
          },
          "shapedefaults": {
           "line": {
            "color": "#2a3f5f"
           }
          },
          "ternary": {
           "aaxis": {
            "gridcolor": "white",
            "linecolor": "white",
            "ticks": ""
           },
           "baxis": {
            "gridcolor": "white",
            "linecolor": "white",
            "ticks": ""
           },
           "bgcolor": "#E5ECF6",
           "caxis": {
            "gridcolor": "white",
            "linecolor": "white",
            "ticks": ""
           }
          },
          "title": {
           "x": 0.05
          },
          "xaxis": {
           "automargin": true,
           "gridcolor": "white",
           "linecolor": "white",
           "ticks": "",
           "title": {
            "standoff": 15
           },
           "zerolinecolor": "white",
           "zerolinewidth": 2
          },
          "yaxis": {
           "automargin": true,
           "gridcolor": "white",
           "linecolor": "white",
           "ticks": "",
           "title": {
            "standoff": 15
           },
           "zerolinecolor": "white",
           "zerolinewidth": 2
          }
         }
        },
        "title": {
         "text": "BLEU Score distribution (General scoring function)"
        },
        "width": 750
       }
      }
     },
     "metadata": {},
     "output_type": "display_data"
    }
   ],
   "source": [
    "fig = ff.create_distplot([bleu_scores], ['Count'])\n",
    "fig.update_layout(title= 'BLEU Score distribution (General scoring function)')\n",
    "fig.show()\n"
   ]
  },
  {
   "attachments": {},
   "cell_type": "markdown",
   "metadata": {},
   "source": [
    "6.7. Compiling and Fitting the model using concat scoring technique: We can now train the model by using model fit method."
   ]
  },
  {
   "cell_type": "code",
   "execution_count": 2,
   "metadata": {},
   "outputs": [
    {
     "name": "stdout",
     "output_type": "stream",
     "text": [
      "Epoch 1/50\n",
      "57/57 [==============================] - 121s 2s/step - loss: 0.1078 - val_loss: 0.2256\n",
      "Epoch 2/50\n",
      "57/57 [==============================] - 114s 2s/step - loss: 0.1016 - val_loss: 0.2244\n",
      "Epoch 3/50\n",
      "57/57 [==============================] - 113s 2s/step - loss: 0.0984 - val_loss: 0.2227\n",
      "Epoch 4/50\n",
      "57/57 [==============================] - 114s 2s/step - loss: 0.0968 - val_loss: 0.2236\n",
      "Epoch 5/50\n",
      "57/57 [==============================] - 114s 2s/step - loss: 0.0957 - val_loss: 0.2241\n",
      "\n",
      "Epoch 00005: ReduceLROnPlateau reducing learning rate to 0.0003124999930150807.\n",
      "Epoch 6/50\n",
      "57/57 [==============================] - 113s 2s/step - loss: 0.0936 - val_loss: 0.2196\n",
      "Epoch 7/50\n",
      "57/57 [==============================] - 113s 2s/step - loss: 0.0917 - val_loss: 0.2214\n",
      "Epoch 8/50\n",
      "57/57 [==============================] - 112s 2s/step - loss: 0.0906 - val_loss: 0.2213\n",
      "\n",
      "Epoch 00008: ReduceLROnPlateau reducing learning rate to 0.00015624999650754035.\n",
      "Epoch 9/50\n",
      "57/57 [==============================] - 112s 2s/step - loss: 0.0893 - val_loss: 0.2209\n",
      "Restoring model weights from the end of the best epoch.\n",
      "Epoch 00009: early stopping\n",
      "Model: \"attention__based__encoder__decoder_4\"\n",
      "_________________________________________________________________\n",
      "Layer (type)                 Output Shape              Param #   \n",
      "=================================================================\n",
      "encoder_4 (Encoder)          multiple                  566148    \n",
      "_________________________________________________________________\n",
      "decoder_4 (Decoder)          multiple                  782649    \n",
      "=================================================================\n",
      "Total params: 1,348,797\n",
      "Trainable params: 1,348,797\n",
      "Non-trainable params: 0\n",
      "_________________________________________________________________\n",
      "The model achieves the loss of 0.2196 on validation set which is better than the model using dot scoring function.\n"
     ]
    }
   ],
   "source": [
    "model_concat  = Encoder_Decoder(input_length = MAX_LEN, inp_vocab_size = len(tokenizer['informal'].word_index.keys()),\n",
    "                                            out_vocab_size = len(tokenizer['normalized'].word_index.keys()), lstm_size = UNITS,\n",
    "                                            scoring_function = 'concat', batch_size = BATCH_SIZE,\n",
    "                                            embedding_dim = len(tokenizer['normalized'].word_index.keys()), embedding_matrix = None)\n",
    "\n",
    "\n",
    "optimizer = tf.keras.optimizers.Adam(0.01)\n",
    "model_concat.compile(optimizer = optimizer, loss = loss_function)\n",
    "\n",
    "learning_rate_cb = tf.keras.callbacks.ReduceLROnPlateau(**cb_params)\n",
    "tensorboard_cb = create_tensorboard_cb(\"Model_Concat_logs\")\n",
    "stopper_cb = tf.keras.callbacks.EarlyStopping(**cb_stopper_cb)\n",
    "checkpoint_cb = tf.keras.callbacks.ModelCheckpoint(\"Model_Concat\",\n",
    "                                                    save_best_only = True, save_weights_only = False)\n",
    "\n",
    "model_concat.fit(train_dataloader, steps_per_epoch = TRAIN_STEPS, epochs = EPOCHS,\n",
    "            callbacks = [learning_rate_cb, tensorboard_cb, stopper_cb, checkpoint_cb],\n",
    "            validation_data = validation_dataloader, validation_steps = VALID_STEPS)\n",
    "model_concat.summary()"
   ]
  },
  {
   "attachments": {},
   "cell_type": "markdown",
   "metadata": {},
   "source": [
    "6.8. Calculate BLEU score (for Concat function): To quantify the model performance, we will clculate the BLEU score."
   ]
  },
  {
   "cell_type": "code",
   "execution_count": 11,
   "metadata": {},
   "outputs": [
    {
     "name": "stdout",
     "output_type": "stream",
     "text": [
      "Average BLEU score for the predictions: 0.5821354723670114\n"
     ]
    }
   ],
   "source": [
    "def predictor(s):\n",
    "    return predict(s, model_concat)\n",
    "\n",
    "test['informals'] = test['encoder_input'].apply(post_processing)\n",
    "test['formals'] = test['decoder_input'].apply(post_processing)\n",
    "test['predictions'] = test['informals'].apply(predictor)\n",
    "test['formals'] = test['formals'].apply(convert_formals)\n",
    "test['predictions'] = test['predictions'].apply(convert_predictions)\n",
    "\n",
    "bleu_scores = []\n",
    "i = 0\n",
    "\n",
    "while i < (len(test)):\n",
    "    bleu_scores.append(sentence_bleu(test['formals'].iloc[i], test['predictions'].iloc[i]))\n",
    "    i = i + 1\n",
    "\n",
    "print('Average BLEU score for the predictions:', np.mean(bleu_scores))"
   ]
  },
  {
   "attachments": {},
   "cell_type": "markdown",
   "metadata": {},
   "source": [
    "6.9. Distribution of BLEU score for Concat scoring function"
   ]
  },
  {
   "cell_type": "code",
   "execution_count": 30,
   "metadata": {},
   "outputs": [
    {
     "data": {
      "application/vnd.plotly.v1+json": {
       "config": {
        "plotlyServerURL": "https://plot.ly"
       },
       "data": [
        {
         "fill": "tozeroy",
         "hoverinfo": "skip",
         "line": {
          "shape": "spline"
         },
         "mode": "lines",
         "name": "spline",
         "text": [
          "tweak line smoothness<br>with 'smoothing' in line object"
         ],
         "type": "scatter",
         "x": [
          0,
          0.1,
          0.2,
          0.3,
          0.35,
          0.4,
          0.45,
          0.5,
          0.6,
          0.7,
          0.75,
          0.8,
          0.9,
          1
         ],
         "y": [
          0.25,
          0.5,
          0.6,
          1.1,
          1.25,
          1,
          1.25,
          1.52,
          2,
          1.75,
          1,
          0.4,
          0.1,
          0
         ]
        }
       ],
       "layout": {
        "autosize": false,
        "height": 500,
        "template": {
         "data": {
          "bar": [
           {
            "error_x": {
             "color": "#2a3f5f"
            },
            "error_y": {
             "color": "#2a3f5f"
            },
            "marker": {
             "line": {
              "color": "#E5ECF6",
              "width": 0.5
             },
             "pattern": {
              "fillmode": "overlay",
              "size": 10,
              "solidity": 0.2
             }
            },
            "type": "bar"
           }
          ],
          "barpolar": [
           {
            "marker": {
             "line": {
              "color": "#E5ECF6",
              "width": 0.5
             },
             "pattern": {
              "fillmode": "overlay",
              "size": 10,
              "solidity": 0.2
             }
            },
            "type": "barpolar"
           }
          ],
          "carpet": [
           {
            "aaxis": {
             "endlinecolor": "#2a3f5f",
             "gridcolor": "white",
             "linecolor": "white",
             "minorgridcolor": "white",
             "startlinecolor": "#2a3f5f"
            },
            "baxis": {
             "endlinecolor": "#2a3f5f",
             "gridcolor": "white",
             "linecolor": "white",
             "minorgridcolor": "white",
             "startlinecolor": "#2a3f5f"
            },
            "type": "carpet"
           }
          ],
          "choropleth": [
           {
            "colorbar": {
             "outlinewidth": 0,
             "ticks": ""
            },
            "type": "choropleth"
           }
          ],
          "contour": [
           {
            "colorbar": {
             "outlinewidth": 0,
             "ticks": ""
            },
            "colorscale": [
             [
              0,
              "#0d0887"
             ],
             [
              0.1111111111111111,
              "#46039f"
             ],
             [
              0.2222222222222222,
              "#7201a8"
             ],
             [
              0.3333333333333333,
              "#9c179e"
             ],
             [
              0.4444444444444444,
              "#bd3786"
             ],
             [
              0.5555555555555556,
              "#d8576b"
             ],
             [
              0.6666666666666666,
              "#ed7953"
             ],
             [
              0.7777777777777778,
              "#fb9f3a"
             ],
             [
              0.8888888888888888,
              "#fdca26"
             ],
             [
              1,
              "#f0f921"
             ]
            ],
            "type": "contour"
           }
          ],
          "contourcarpet": [
           {
            "colorbar": {
             "outlinewidth": 0,
             "ticks": ""
            },
            "type": "contourcarpet"
           }
          ],
          "heatmap": [
           {
            "colorbar": {
             "outlinewidth": 0,
             "ticks": ""
            },
            "colorscale": [
             [
              0,
              "#0d0887"
             ],
             [
              0.1111111111111111,
              "#46039f"
             ],
             [
              0.2222222222222222,
              "#7201a8"
             ],
             [
              0.3333333333333333,
              "#9c179e"
             ],
             [
              0.4444444444444444,
              "#bd3786"
             ],
             [
              0.5555555555555556,
              "#d8576b"
             ],
             [
              0.6666666666666666,
              "#ed7953"
             ],
             [
              0.7777777777777778,
              "#fb9f3a"
             ],
             [
              0.8888888888888888,
              "#fdca26"
             ],
             [
              1,
              "#f0f921"
             ]
            ],
            "type": "heatmap"
           }
          ],
          "heatmapgl": [
           {
            "colorbar": {
             "outlinewidth": 0,
             "ticks": ""
            },
            "colorscale": [
             [
              0,
              "#0d0887"
             ],
             [
              0.1111111111111111,
              "#46039f"
             ],
             [
              0.2222222222222222,
              "#7201a8"
             ],
             [
              0.3333333333333333,
              "#9c179e"
             ],
             [
              0.4444444444444444,
              "#bd3786"
             ],
             [
              0.5555555555555556,
              "#d8576b"
             ],
             [
              0.6666666666666666,
              "#ed7953"
             ],
             [
              0.7777777777777778,
              "#fb9f3a"
             ],
             [
              0.8888888888888888,
              "#fdca26"
             ],
             [
              1,
              "#f0f921"
             ]
            ],
            "type": "heatmapgl"
           }
          ],
          "histogram": [
           {
            "marker": {
             "pattern": {
              "fillmode": "overlay",
              "size": 10,
              "solidity": 0.2
             }
            },
            "type": "histogram"
           }
          ],
          "histogram2d": [
           {
            "colorbar": {
             "outlinewidth": 0,
             "ticks": ""
            },
            "colorscale": [
             [
              0,
              "#0d0887"
             ],
             [
              0.1111111111111111,
              "#46039f"
             ],
             [
              0.2222222222222222,
              "#7201a8"
             ],
             [
              0.3333333333333333,
              "#9c179e"
             ],
             [
              0.4444444444444444,
              "#bd3786"
             ],
             [
              0.5555555555555556,
              "#d8576b"
             ],
             [
              0.6666666666666666,
              "#ed7953"
             ],
             [
              0.7777777777777778,
              "#fb9f3a"
             ],
             [
              0.8888888888888888,
              "#fdca26"
             ],
             [
              1,
              "#f0f921"
             ]
            ],
            "type": "histogram2d"
           }
          ],
          "histogram2dcontour": [
           {
            "colorbar": {
             "outlinewidth": 0,
             "ticks": ""
            },
            "colorscale": [
             [
              0,
              "#0d0887"
             ],
             [
              0.1111111111111111,
              "#46039f"
             ],
             [
              0.2222222222222222,
              "#7201a8"
             ],
             [
              0.3333333333333333,
              "#9c179e"
             ],
             [
              0.4444444444444444,
              "#bd3786"
             ],
             [
              0.5555555555555556,
              "#d8576b"
             ],
             [
              0.6666666666666666,
              "#ed7953"
             ],
             [
              0.7777777777777778,
              "#fb9f3a"
             ],
             [
              0.8888888888888888,
              "#fdca26"
             ],
             [
              1,
              "#f0f921"
             ]
            ],
            "type": "histogram2dcontour"
           }
          ],
          "mesh3d": [
           {
            "colorbar": {
             "outlinewidth": 0,
             "ticks": ""
            },
            "type": "mesh3d"
           }
          ],
          "parcoords": [
           {
            "line": {
             "colorbar": {
              "outlinewidth": 0,
              "ticks": ""
             }
            },
            "type": "parcoords"
           }
          ],
          "pie": [
           {
            "automargin": true,
            "type": "pie"
           }
          ],
          "scatter": [
           {
            "fillpattern": {
             "fillmode": "overlay",
             "size": 10,
             "solidity": 0.2
            },
            "type": "scatter"
           }
          ],
          "scatter3d": [
           {
            "line": {
             "colorbar": {
              "outlinewidth": 0,
              "ticks": ""
             }
            },
            "marker": {
             "colorbar": {
              "outlinewidth": 0,
              "ticks": ""
             }
            },
            "type": "scatter3d"
           }
          ],
          "scattercarpet": [
           {
            "marker": {
             "colorbar": {
              "outlinewidth": 0,
              "ticks": ""
             }
            },
            "type": "scattercarpet"
           }
          ],
          "scattergeo": [
           {
            "marker": {
             "colorbar": {
              "outlinewidth": 0,
              "ticks": ""
             }
            },
            "type": "scattergeo"
           }
          ],
          "scattergl": [
           {
            "marker": {
             "colorbar": {
              "outlinewidth": 0,
              "ticks": ""
             }
            },
            "type": "scattergl"
           }
          ],
          "scattermapbox": [
           {
            "marker": {
             "colorbar": {
              "outlinewidth": 0,
              "ticks": ""
             }
            },
            "type": "scattermapbox"
           }
          ],
          "scatterpolar": [
           {
            "marker": {
             "colorbar": {
              "outlinewidth": 0,
              "ticks": ""
             }
            },
            "type": "scatterpolar"
           }
          ],
          "scatterpolargl": [
           {
            "marker": {
             "colorbar": {
              "outlinewidth": 0,
              "ticks": ""
             }
            },
            "type": "scatterpolargl"
           }
          ],
          "scatterternary": [
           {
            "marker": {
             "colorbar": {
              "outlinewidth": 0,
              "ticks": ""
             }
            },
            "type": "scatterternary"
           }
          ],
          "surface": [
           {
            "colorbar": {
             "outlinewidth": 0,
             "ticks": ""
            },
            "colorscale": [
             [
              0,
              "#0d0887"
             ],
             [
              0.1111111111111111,
              "#46039f"
             ],
             [
              0.2222222222222222,
              "#7201a8"
             ],
             [
              0.3333333333333333,
              "#9c179e"
             ],
             [
              0.4444444444444444,
              "#bd3786"
             ],
             [
              0.5555555555555556,
              "#d8576b"
             ],
             [
              0.6666666666666666,
              "#ed7953"
             ],
             [
              0.7777777777777778,
              "#fb9f3a"
             ],
             [
              0.8888888888888888,
              "#fdca26"
             ],
             [
              1,
              "#f0f921"
             ]
            ],
            "type": "surface"
           }
          ],
          "table": [
           {
            "cells": {
             "fill": {
              "color": "#EBF0F8"
             },
             "line": {
              "color": "white"
             }
            },
            "header": {
             "fill": {
              "color": "#C8D4E3"
             },
             "line": {
              "color": "white"
             }
            },
            "type": "table"
           }
          ]
         },
         "layout": {
          "annotationdefaults": {
           "arrowcolor": "#2a3f5f",
           "arrowhead": 0,
           "arrowwidth": 1
          },
          "autotypenumbers": "strict",
          "coloraxis": {
           "colorbar": {
            "outlinewidth": 0,
            "ticks": ""
           }
          },
          "colorscale": {
           "diverging": [
            [
             0,
             "#8e0152"
            ],
            [
             0.1,
             "#c51b7d"
            ],
            [
             0.2,
             "#de77ae"
            ],
            [
             0.3,
             "#f1b6da"
            ],
            [
             0.4,
             "#fde0ef"
            ],
            [
             0.5,
             "#f7f7f7"
            ],
            [
             0.6,
             "#e6f5d0"
            ],
            [
             0.7,
             "#b8e186"
            ],
            [
             0.8,
             "#7fbc41"
            ],
            [
             0.9,
             "#4d9221"
            ],
            [
             1,
             "#276419"
            ]
           ],
           "sequential": [
            [
             0,
             "#0d0887"
            ],
            [
             0.1111111111111111,
             "#46039f"
            ],
            [
             0.2222222222222222,
             "#7201a8"
            ],
            [
             0.3333333333333333,
             "#9c179e"
            ],
            [
             0.4444444444444444,
             "#bd3786"
            ],
            [
             0.5555555555555556,
             "#d8576b"
            ],
            [
             0.6666666666666666,
             "#ed7953"
            ],
            [
             0.7777777777777778,
             "#fb9f3a"
            ],
            [
             0.8888888888888888,
             "#fdca26"
            ],
            [
             1,
             "#f0f921"
            ]
           ],
           "sequentialminus": [
            [
             0,
             "#0d0887"
            ],
            [
             0.1111111111111111,
             "#46039f"
            ],
            [
             0.2222222222222222,
             "#7201a8"
            ],
            [
             0.3333333333333333,
             "#9c179e"
            ],
            [
             0.4444444444444444,
             "#bd3786"
            ],
            [
             0.5555555555555556,
             "#d8576b"
            ],
            [
             0.6666666666666666,
             "#ed7953"
            ],
            [
             0.7777777777777778,
             "#fb9f3a"
            ],
            [
             0.8888888888888888,
             "#fdca26"
            ],
            [
             1,
             "#f0f921"
            ]
           ]
          },
          "colorway": [
           "#636efa",
           "#EF553B",
           "#00cc96",
           "#ab63fa",
           "#FFA15A",
           "#19d3f3",
           "#FF6692",
           "#B6E880",
           "#FF97FF",
           "#FECB52"
          ],
          "font": {
           "color": "#2a3f5f"
          },
          "geo": {
           "bgcolor": "white",
           "lakecolor": "white",
           "landcolor": "#E5ECF6",
           "showlakes": true,
           "showland": true,
           "subunitcolor": "white"
          },
          "hoverlabel": {
           "align": "left"
          },
          "hovermode": "closest",
          "mapbox": {
           "style": "light"
          },
          "paper_bgcolor": "white",
          "plot_bgcolor": "#E5ECF6",
          "polar": {
           "angularaxis": {
            "gridcolor": "white",
            "linecolor": "white",
            "ticks": ""
           },
           "bgcolor": "#E5ECF6",
           "radialaxis": {
            "gridcolor": "white",
            "linecolor": "white",
            "ticks": ""
           }
          },
          "scene": {
           "xaxis": {
            "backgroundcolor": "#E5ECF6",
            "gridcolor": "white",
            "gridwidth": 2,
            "linecolor": "white",
            "showbackground": true,
            "ticks": "",
            "zerolinecolor": "white"
           },
           "yaxis": {
            "backgroundcolor": "#E5ECF6",
            "gridcolor": "white",
            "gridwidth": 2,
            "linecolor": "white",
            "showbackground": true,
            "ticks": "",
            "zerolinecolor": "white"
           },
           "zaxis": {
            "backgroundcolor": "#E5ECF6",
            "gridcolor": "white",
            "gridwidth": 2,
            "linecolor": "white",
            "showbackground": true,
            "ticks": "",
            "zerolinecolor": "white"
           }
          },
          "shapedefaults": {
           "line": {
            "color": "#2a3f5f"
           }
          },
          "ternary": {
           "aaxis": {
            "gridcolor": "white",
            "linecolor": "white",
            "ticks": ""
           },
           "baxis": {
            "gridcolor": "white",
            "linecolor": "white",
            "ticks": ""
           },
           "bgcolor": "#E5ECF6",
           "caxis": {
            "gridcolor": "white",
            "linecolor": "white",
            "ticks": ""
           }
          },
          "title": {
           "x": 0.05
          },
          "xaxis": {
           "automargin": true,
           "gridcolor": "white",
           "linecolor": "white",
           "ticks": "",
           "title": {
            "standoff": 15
           },
           "zerolinecolor": "white",
           "zerolinewidth": 2
          },
          "yaxis": {
           "automargin": true,
           "gridcolor": "white",
           "linecolor": "white",
           "ticks": "",
           "title": {
            "standoff": 15
           },
           "zerolinecolor": "white",
           "zerolinewidth": 2
          }
         }
        },
        "title": {
         "text": "BLEU Score distribution (Concat scoring function)"
        },
        "width": 750
       }
      }
     },
     "metadata": {},
     "output_type": "display_data"
    }
   ],
   "source": [
    "new_var = fig = ff.create_distplot([bleu_scores], ['Count'])\n",
    "fig.update_layout(title= 'BLEU Score distribution (Concat scoring function)')\n",
    "fig.show()"
   ]
  },
  {
   "attachments": {},
   "cell_type": "markdown",
   "metadata": {},
   "source": [
    "9 Error Analysis:\n",
    "Out of the three models, the concat scoring function model has shown the best performance. We will now examine the model's performance on the test dataset by comparing its best and worst predictions. To do that, we must first sort the model's test set bleu scores before printing the related forecasts."
   ]
  },
  {
   "cell_type": "code",
   "execution_count": null,
   "metadata": {},
   "outputs": [
    {
     "name": "stdout",
     "output_type": "stream",
     "text": [
      "Best Predictions:\n",
      "Informal Input: How you doing?\n",
      "Expected Output: How you doing?\n",
      "Predicted Output:  How you doing?\n",
      "Bleu Score of Prediction : 1.0\n",
      "\n",
      "\n",
      "Worst Predictions:\n",
      "Informal Input : Kid's shop selling clothes izit...\n",
      "Expected Output : Kid's shop is selling clothes, is it?\n",
      "Predicted Output : I'm still to some to see you all not.\n",
      "Bleu Score of Prediction : 0.00\n"
     ]
    }
   ],
   "source": [
    "scores = np.array(bleu_scores)\n",
    "indices = (np.argsort(scores)).tolist()\n",
    "worst = indices[0]\n",
    "best = indices[-1]\n",
    "\n",
    "print('Best Predictions:')\n",
    "print('Informal Input: ',test['informals'].iloc[indices[-1]])\n",
    "print('Expected Output: ',test['formals'].iloc[indices[-1]][0])\n",
    "print('Predicted Output: ',test['predictions'].iloc[indices[-1]])\n",
    "print('Bleu Score of Prediction: ',scores[indices[-1]])\n",
    "print(\"\\n\")\n",
    "\n",
    "print('Worst Predictions:')\n",
    "print('Informal Input: ',test['informals'].iloc[indices[0]])\n",
    "print('Expected Output: ',test['formals'].iloc[indices[0]][0])\n",
    "print('Predicted Output: ',test['predictions'].iloc[indices[0]])\n",
    "print('Bleu Score of Prediction: ',scores[indices[0]])\n",
    "print(\"\\n\")"
   ]
  }
 ],
 "metadata": {
  "kernelspec": {
   "display_name": "venv",
   "language": "python",
   "name": "python3"
  },
  "language_info": {
   "codemirror_mode": {
    "name": "ipython",
    "version": 3
   },
   "file_extension": ".py",
   "mimetype": "text/x-python",
   "name": "python",
   "nbconvert_exporter": "python",
   "pygments_lexer": "ipython3",
   "version": "3.9.7"
  },
  "orig_nbformat": 4
 },
 "nbformat": 4,
 "nbformat_minor": 2
}
